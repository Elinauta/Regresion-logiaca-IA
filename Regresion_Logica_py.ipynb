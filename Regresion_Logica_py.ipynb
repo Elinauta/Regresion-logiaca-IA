{
  "nbformat": 4,
  "nbformat_minor": 0,
  "metadata": {
    "colab": {
      "name": "Regresion_Logica.py",
      "provenance": [],
      "collapsed_sections": [],
      "authorship_tag": "ABX9TyOfiI7TQ5s1bPEQWBIE7R7+",
      "include_colab_link": true
    },
    "kernelspec": {
      "name": "python3",
      "display_name": "Python 3"
    },
    "language_info": {
      "name": "python"
    }
  },
  "cells": [
    {
      "cell_type": "markdown",
      "metadata": {
        "id": "view-in-github",
        "colab_type": "text"
      },
      "source": [
        "<a href=\"https://colab.research.google.com/github/Elinauta/Regresion-logiaca-IA/blob/main/Regresion_Logica_py.ipynb\" target=\"_parent\"><img src=\"https://colab.research.google.com/assets/colab-badge.svg\" alt=\"Open In Colab\"/></a>"
      ]
    },
    {
      "cell_type": "markdown",
      "metadata": {
        "id": "y0a8kg5qk6KS"
      },
      "source": [
        "# REGRESION LOGICA\n",
        "\n",
        "Cuaya Padilla Maria Elizabeth\n",
        "Reg. 19110132\n",
        "5°G1"
      ]
    },
    {
      "cell_type": "code",
      "metadata": {
        "id": "U6pkMtmplJt2"
      },
      "source": [
        "from sklearn import datasets"
      ],
      "execution_count": null,
      "outputs": []
    },
    {
      "cell_type": "code",
      "metadata": {
        "id": "pGQ-yLZllQll"
      },
      "source": [
        "datasets = datasets.load_breast_cancer()"
      ],
      "execution_count": null,
      "outputs": []
    },
    {
      "cell_type": "code",
      "metadata": {
        "id": "sbz_zcCVlfsD"
      },
      "source": [
        "x = datasets.data\n",
        "y = datasets.target"
      ],
      "execution_count": null,
      "outputs": []
    },
    {
      "cell_type": "code",
      "metadata": {
        "colab": {
          "base_uri": "https://localhost:8080/"
        },
        "id": "sK9EqOzClpjT",
        "outputId": "70aa9e66-a2ee-4358-ca9a-0019e8f35ab7"
      },
      "source": [
        "\"\"\"Implementacion de la regresion\"\"\"\n",
        "from sklearn.model_selection import train_test_split\n",
        "\n",
        "#Separacion de los datos para el entranamiento y de prueba\n",
        "x_train, x_test, y_train, y_test = train_test_split(x, y, test_size=0.2)\n",
        "\n",
        "from sklearn.preprocessing import StandardScaler\n",
        "\n",
        "escalar = StandardScaler()\n",
        "x_train = escalar.fit_transform(x_train)\n",
        "x_test = escalar.transform(x_test)\n",
        "\n",
        "#Algoritmo de regresion\n",
        "from sklearn.linear_model import LogisticRegression\n",
        "\n",
        "algoritmo = LogisticRegression()\n",
        "#entrenamiento\n",
        "algoritmo.fit(x_train, y_train)\n",
        "#Prediccion\n",
        "y_pred = algoritmo.predict(x_test)\n",
        "print(\"Datos de prediccion: \")\n",
        "print(y_pred)\n",
        "print(\"\\nDatos de test: \")\n",
        "print(y_test)\n",
        "\n",
        "#matriz de confusion\n",
        "from sklearn.metrics import confusion_matrix\n",
        "matriz = confusion_matrix(y_test, y_pred)\n",
        "print('\\nMatriz de Confusión:')\n",
        "print(matriz)\n",
        "\n",
        "#Calculo la precisión del modelo\n",
        "from sklearn.metrics import precision_score\n",
        "precision = precision_score(y_test, y_pred)\n",
        "print('\\nPrecisión del modelo:')\n",
        "print(precision)\n",
        "\n",
        "#Calculo la exactitud del modelo\n",
        "from sklearn.metrics import accuracy_score\n",
        "exactitud = accuracy_score(y_test, y_pred)\n",
        "print('\\nExactitud del modelo:')\n",
        "print(exactitud)\n",
        "\n",
        "#Calculo la sensibilidad del modelo\n",
        "from sklearn.metrics import recall_score\n",
        "sensibilidad = recall_score(y_test, y_pred)\n",
        "print('\\nSensibilidad del modelo:')\n",
        "print(sensibilidad)\n",
        "\n",
        "#Calculo el Puntaje F1 del modelo\n",
        "from sklearn.metrics import f1_score\n",
        "puntajef1 = f1_score(y_test, y_pred)\n",
        "print('\\nPuntaje F1 del modelo:')\n",
        "print(puntajef1)\n",
        "\n",
        "#Calculo la curva ROC - AUC del modelo\n",
        "from sklearn.metrics import roc_auc_score\n",
        "roc_auc = roc_auc_score(y_test, y_pred)\n",
        "print('\\nCurva ROC - AUC del modelo:')\n",
        "print(roc_auc)"
      ],
      "execution_count": null,
      "outputs": [
        {
          "output_type": "stream",
          "text": [
            "Datos de prediccion: \n",
            "[1 0 1 1 1 1 1 1 1 1 0 1 1 0 0 1 1 1 1 0 1 1 1 0 1 0 1 1 0 1 1 1 1 1 0 1 1\n",
            " 1 1 0 1 0 1 1 1 1 1 0 0 1 1 1 1 0 0 0 1 0 1 1 1 0 0 1 1 0 0 0 0 1 1 0 0 0\n",
            " 1 1 0 0 1 1 0 1 0 0 1 1 1 0 1 1 1 1 0 1 1 0 1 0 0 0 1 1 0 1 1 1 1 0 1 1 0\n",
            " 1 1 1]\n",
            "\n",
            "Datos de test: \n",
            "[1 0 0 1 1 1 1 1 1 1 0 1 1 0 0 1 1 1 1 0 1 1 1 0 1 0 1 1 0 1 1 1 1 1 0 1 1\n",
            " 1 1 0 1 0 1 1 1 1 1 0 0 1 1 1 0 0 0 0 1 0 1 1 1 0 0 1 1 0 0 0 0 1 1 0 0 0\n",
            " 1 1 0 0 1 1 0 1 0 0 1 1 1 0 1 1 1 1 0 0 1 0 1 0 0 0 0 1 0 1 1 1 1 0 1 1 0\n",
            " 1 0 1]\n",
            "\n",
            "Matriz de Confusión:\n",
            "[[40  5]\n",
            " [ 0 69]]\n",
            "\n",
            "Precisión del modelo:\n",
            "0.9324324324324325\n",
            "\n",
            "Exactitud del modelo:\n",
            "0.956140350877193\n",
            "\n",
            "Sensibilidad del modelo:\n",
            "1.0\n",
            "\n",
            "Puntaje F1 del modelo:\n",
            "0.965034965034965\n",
            "\n",
            "Curva ROC - AUC del modelo:\n",
            "0.9444444444444444\n"
          ],
          "name": "stdout"
        }
      ]
    }
  ]
}